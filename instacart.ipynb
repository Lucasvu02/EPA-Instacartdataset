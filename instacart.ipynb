{
 "cells": [
  {
   "cell_type": "markdown",
   "metadata": {
    "id": "I72XYMQ6F-uO"
   },
   "source": []
  },
  {
   "cell_type": "code",
   "execution_count": 1,
   "metadata": {
    "colab": {
     "base_uri": "https://localhost:8080/"
    },
    "id": "0rDqytEQlzmE",
    "outputId": "c829ca31-d045-4c26-f0db-466a71e47edf"
   },
   "outputs": [
    {
     "name": "stdout",
     "output_type": "stream",
     "text": [
      "Drive already mounted at /content/drive; to attempt to forcibly remount, call drive.mount(\"/content/drive\", force_remount=True).\n"
     ]
    }
   ],
   "source": []
  },
  {
   "cell_type": "code",
   "execution_count": null,
   "metadata": {
    "id": "hlFSiBFTB9Ur"
   },
   "outputs": [],
   "source": [
    "import pandas as pd\n",
    "order_products_train = pd.read_csv('./order_products__train.csv')\n",
    "order_products_prior = pd.read_csv('./order_products__prior.csv')\n",
    "orders      = pd.read_csv('./orders.csv')\n",
    "products    = pd.read_csv('./products.csv')\n",
    "aisles      = pd.read_csv('./aisles.csv')\n",
    "departments = pd.read_csv('./departments.csv')"
   ]
  },
  {
   "cell_type": "code",
   "execution_count": 2,
   "metadata": {
    "colab": {
     "base_uri": "https://localhost:8080/"
    },
    "id": "NHe_jiaImMqR",
    "outputId": "99a6d1a0-17c2-43a4-e429-b4f4a8abe6f6"
   },
   "outputs": [
    {
     "name": "stdout",
     "output_type": "stream",
     "text": [
      "aisle:  (134, 2)\n",
      "departments:  (21, 2)\n",
      "orders:  (3421083, 7)\n",
      "products:  (49688, 4)\n",
      "order_products_prior:  (32434489, 4)\n",
      "order_products_train:  (1384617, 4)\n"
     ]
    }
   ],
   "source": [
    "print(\"aisle: \",aisles.shape)\n",
    "print(\"departments: \" ,departments.shape)\n",
    "print(\"orders: \",orders.shape)\n",
    "print(\"products: \",products.shape)\n",
    "print(\"order_products_prior: \",order_products_prior.shape)\n",
    "print(\"order_products_train: \",order_products_train.shape)"
   ]
  },
  {
   "cell_type": "code",
   "execution_count": 4,
   "metadata": {
    "id": "W9AiHvpcnsFP"
   },
   "outputs": [],
   "source": [
    "#order_products_train = order_products_train.merge(orders.drop('eval_set', axis=1), on='order_id')\n",
    "#order_products_prior = order_products_prior.merge(orders.drop('eval_set', axis=1), on='order_id')"
   ]
  },
  {
   "cell_type": "code",
   "execution_count": 3,
   "metadata": {
    "colab": {
     "base_uri": "https://localhost:8080/",
     "height": 206
    },
    "id": "AB1v_wIlnvRL",
    "outputId": "467e8768-c133-4af7-fb55-b1fd531111c5"
   },
   "outputs": [
    {
     "data": {
      "text/html": [
       "<div>\n",
       "<style scoped>\n",
       "    .dataframe tbody tr th:only-of-type {\n",
       "        vertical-align: middle;\n",
       "    }\n",
       "\n",
       "    .dataframe tbody tr th {\n",
       "        vertical-align: top;\n",
       "    }\n",
       "\n",
       "    .dataframe thead th {\n",
       "        text-align: right;\n",
       "    }\n",
       "</style>\n",
       "<table border=\"1\" class=\"dataframe\">\n",
       "  <thead>\n",
       "    <tr style=\"text-align: right;\">\n",
       "      <th></th>\n",
       "      <th>order_id</th>\n",
       "      <th>user_id</th>\n",
       "      <th>eval_set</th>\n",
       "      <th>order_number</th>\n",
       "      <th>order_dow</th>\n",
       "      <th>order_hour_of_day</th>\n",
       "      <th>days_since_prior_order</th>\n",
       "    </tr>\n",
       "  </thead>\n",
       "  <tbody>\n",
       "    <tr>\n",
       "      <th>0</th>\n",
       "      <td>2539329</td>\n",
       "      <td>1</td>\n",
       "      <td>prior</td>\n",
       "      <td>1</td>\n",
       "      <td>2</td>\n",
       "      <td>8</td>\n",
       "      <td>NaN</td>\n",
       "    </tr>\n",
       "    <tr>\n",
       "      <th>1</th>\n",
       "      <td>2398795</td>\n",
       "      <td>1</td>\n",
       "      <td>prior</td>\n",
       "      <td>2</td>\n",
       "      <td>3</td>\n",
       "      <td>7</td>\n",
       "      <td>15.0</td>\n",
       "    </tr>\n",
       "    <tr>\n",
       "      <th>2</th>\n",
       "      <td>473747</td>\n",
       "      <td>1</td>\n",
       "      <td>prior</td>\n",
       "      <td>3</td>\n",
       "      <td>3</td>\n",
       "      <td>12</td>\n",
       "      <td>21.0</td>\n",
       "    </tr>\n",
       "    <tr>\n",
       "      <th>3</th>\n",
       "      <td>2254736</td>\n",
       "      <td>1</td>\n",
       "      <td>prior</td>\n",
       "      <td>4</td>\n",
       "      <td>4</td>\n",
       "      <td>7</td>\n",
       "      <td>29.0</td>\n",
       "    </tr>\n",
       "    <tr>\n",
       "      <th>4</th>\n",
       "      <td>431534</td>\n",
       "      <td>1</td>\n",
       "      <td>prior</td>\n",
       "      <td>5</td>\n",
       "      <td>4</td>\n",
       "      <td>15</td>\n",
       "      <td>28.0</td>\n",
       "    </tr>\n",
       "  </tbody>\n",
       "</table>\n",
       "</div>"
      ],
      "text/plain": [
       "   order_id  user_id eval_set  order_number  order_dow  order_hour_of_day   \n",
       "0   2539329        1    prior             1          2                  8  \\\n",
       "1   2398795        1    prior             2          3                  7   \n",
       "2    473747        1    prior             3          3                 12   \n",
       "3   2254736        1    prior             4          4                  7   \n",
       "4    431534        1    prior             5          4                 15   \n",
       "\n",
       "   days_since_prior_order  \n",
       "0                     NaN  \n",
       "1                    15.0  \n",
       "2                    21.0  \n",
       "3                    29.0  \n",
       "4                    28.0  "
      ]
     },
     "execution_count": 3,
     "metadata": {},
     "output_type": "execute_result"
    }
   ],
   "source": [
    "#orders[orders[\"eval_set\"]==\"pri\"] = \"prior\"\n",
    "orders.head()"
   ]
  },
  {
   "cell_type": "code",
   "execution_count": 4,
   "metadata": {
    "colab": {
     "base_uri": "https://localhost:8080/",
     "height": 206
    },
    "id": "ojCDqLl1nyKp",
    "outputId": "c9d04198-0b34-4b2f-95c2-9b9b25ba3679"
   },
   "outputs": [
    {
     "data": {
      "text/html": [
       "<div>\n",
       "<style scoped>\n",
       "    .dataframe tbody tr th:only-of-type {\n",
       "        vertical-align: middle;\n",
       "    }\n",
       "\n",
       "    .dataframe tbody tr th {\n",
       "        vertical-align: top;\n",
       "    }\n",
       "\n",
       "    .dataframe thead th {\n",
       "        text-align: right;\n",
       "    }\n",
       "</style>\n",
       "<table border=\"1\" class=\"dataframe\">\n",
       "  <thead>\n",
       "    <tr style=\"text-align: right;\">\n",
       "      <th></th>\n",
       "      <th>order_id</th>\n",
       "      <th>product_id</th>\n",
       "      <th>add_to_cart_order</th>\n",
       "      <th>reordered</th>\n",
       "    </tr>\n",
       "  </thead>\n",
       "  <tbody>\n",
       "    <tr>\n",
       "      <th>0</th>\n",
       "      <td>1</td>\n",
       "      <td>49302</td>\n",
       "      <td>1</td>\n",
       "      <td>1</td>\n",
       "    </tr>\n",
       "    <tr>\n",
       "      <th>1</th>\n",
       "      <td>1</td>\n",
       "      <td>11109</td>\n",
       "      <td>2</td>\n",
       "      <td>1</td>\n",
       "    </tr>\n",
       "    <tr>\n",
       "      <th>2</th>\n",
       "      <td>1</td>\n",
       "      <td>10246</td>\n",
       "      <td>3</td>\n",
       "      <td>0</td>\n",
       "    </tr>\n",
       "    <tr>\n",
       "      <th>3</th>\n",
       "      <td>1</td>\n",
       "      <td>49683</td>\n",
       "      <td>4</td>\n",
       "      <td>0</td>\n",
       "    </tr>\n",
       "    <tr>\n",
       "      <th>4</th>\n",
       "      <td>1</td>\n",
       "      <td>43633</td>\n",
       "      <td>5</td>\n",
       "      <td>1</td>\n",
       "    </tr>\n",
       "  </tbody>\n",
       "</table>\n",
       "</div>"
      ],
      "text/plain": [
       "   order_id  product_id  add_to_cart_order  reordered\n",
       "0         1       49302                  1          1\n",
       "1         1       11109                  2          1\n",
       "2         1       10246                  3          0\n",
       "3         1       49683                  4          0\n",
       "4         1       43633                  5          1"
      ]
     },
     "execution_count": 4,
     "metadata": {},
     "output_type": "execute_result"
    }
   ],
   "source": [
    "order_products_train.head()"
   ]
  },
  {
   "cell_type": "code",
   "execution_count": 5,
   "metadata": {
    "colab": {
     "base_uri": "https://localhost:8080/",
     "height": 206
    },
    "id": "4YSW4d96nz55",
    "outputId": "f99978b1-7d5a-447f-906a-98221ef2bd31"
   },
   "outputs": [
    {
     "data": {
      "text/html": [
       "<div>\n",
       "<style scoped>\n",
       "    .dataframe tbody tr th:only-of-type {\n",
       "        vertical-align: middle;\n",
       "    }\n",
       "\n",
       "    .dataframe tbody tr th {\n",
       "        vertical-align: top;\n",
       "    }\n",
       "\n",
       "    .dataframe thead th {\n",
       "        text-align: right;\n",
       "    }\n",
       "</style>\n",
       "<table border=\"1\" class=\"dataframe\">\n",
       "  <thead>\n",
       "    <tr style=\"text-align: right;\">\n",
       "      <th></th>\n",
       "      <th>order_id</th>\n",
       "      <th>product_id</th>\n",
       "      <th>add_to_cart_order</th>\n",
       "      <th>reordered</th>\n",
       "    </tr>\n",
       "  </thead>\n",
       "  <tbody>\n",
       "    <tr>\n",
       "      <th>0</th>\n",
       "      <td>2</td>\n",
       "      <td>33120</td>\n",
       "      <td>1</td>\n",
       "      <td>1</td>\n",
       "    </tr>\n",
       "    <tr>\n",
       "      <th>1</th>\n",
       "      <td>2</td>\n",
       "      <td>28985</td>\n",
       "      <td>2</td>\n",
       "      <td>1</td>\n",
       "    </tr>\n",
       "    <tr>\n",
       "      <th>2</th>\n",
       "      <td>2</td>\n",
       "      <td>9327</td>\n",
       "      <td>3</td>\n",
       "      <td>0</td>\n",
       "    </tr>\n",
       "    <tr>\n",
       "      <th>3</th>\n",
       "      <td>2</td>\n",
       "      <td>45918</td>\n",
       "      <td>4</td>\n",
       "      <td>1</td>\n",
       "    </tr>\n",
       "    <tr>\n",
       "      <th>4</th>\n",
       "      <td>2</td>\n",
       "      <td>30035</td>\n",
       "      <td>5</td>\n",
       "      <td>0</td>\n",
       "    </tr>\n",
       "  </tbody>\n",
       "</table>\n",
       "</div>"
      ],
      "text/plain": [
       "   order_id  product_id  add_to_cart_order  reordered\n",
       "0         2       33120                  1          1\n",
       "1         2       28985                  2          1\n",
       "2         2        9327                  3          0\n",
       "3         2       45918                  4          1\n",
       "4         2       30035                  5          0"
      ]
     },
     "execution_count": 5,
     "metadata": {},
     "output_type": "execute_result"
    }
   ],
   "source": [
    "order_products_prior.head()"
   ]
  },
  {
   "cell_type": "code",
   "execution_count": 6,
   "metadata": {
    "colab": {
     "base_uri": "https://localhost:8080/",
     "height": 206
    },
    "id": "DG0KzpSIn1zY",
    "outputId": "2e6cf653-01e5-48a5-d47d-9a5eafdf4052"
   },
   "outputs": [
    {
     "data": {
      "text/html": [
       "<div>\n",
       "<style scoped>\n",
       "    .dataframe tbody tr th:only-of-type {\n",
       "        vertical-align: middle;\n",
       "    }\n",
       "\n",
       "    .dataframe tbody tr th {\n",
       "        vertical-align: top;\n",
       "    }\n",
       "\n",
       "    .dataframe thead th {\n",
       "        text-align: right;\n",
       "    }\n",
       "</style>\n",
       "<table border=\"1\" class=\"dataframe\">\n",
       "  <thead>\n",
       "    <tr style=\"text-align: right;\">\n",
       "      <th></th>\n",
       "      <th>order_id</th>\n",
       "      <th>product_id</th>\n",
       "      <th>add_to_cart_order</th>\n",
       "      <th>reordered</th>\n",
       "    </tr>\n",
       "  </thead>\n",
       "  <tbody>\n",
       "    <tr>\n",
       "      <th>0</th>\n",
       "      <td>1</td>\n",
       "      <td>49302</td>\n",
       "      <td>1</td>\n",
       "      <td>1</td>\n",
       "    </tr>\n",
       "    <tr>\n",
       "      <th>1</th>\n",
       "      <td>1</td>\n",
       "      <td>11109</td>\n",
       "      <td>2</td>\n",
       "      <td>1</td>\n",
       "    </tr>\n",
       "    <tr>\n",
       "      <th>2</th>\n",
       "      <td>1</td>\n",
       "      <td>10246</td>\n",
       "      <td>3</td>\n",
       "      <td>0</td>\n",
       "    </tr>\n",
       "    <tr>\n",
       "      <th>3</th>\n",
       "      <td>1</td>\n",
       "      <td>49683</td>\n",
       "      <td>4</td>\n",
       "      <td>0</td>\n",
       "    </tr>\n",
       "    <tr>\n",
       "      <th>4</th>\n",
       "      <td>1</td>\n",
       "      <td>43633</td>\n",
       "      <td>5</td>\n",
       "      <td>1</td>\n",
       "    </tr>\n",
       "  </tbody>\n",
       "</table>\n",
       "</div>"
      ],
      "text/plain": [
       "   order_id  product_id  add_to_cart_order  reordered\n",
       "0         1       49302                  1          1\n",
       "1         1       11109                  2          1\n",
       "2         1       10246                  3          0\n",
       "3         1       49683                  4          0\n",
       "4         1       43633                  5          1"
      ]
     },
     "execution_count": 6,
     "metadata": {},
     "output_type": "execute_result"
    }
   ],
   "source": [
    "order_products_train.head()"
   ]
  },
  {
   "cell_type": "code",
   "execution_count": 7,
   "metadata": {
    "colab": {
     "base_uri": "https://localhost:8080/",
     "height": 210
    },
    "id": "XQd1UWL-oAaW",
    "outputId": "5a93687b-a306-415d-9617-df6bedb91f2c"
   },
   "outputs": [
    {
     "data": {
      "text/plain": [
       "eval_set\n",
       "prior    3214874\n",
       "train     131209\n",
       "test       75000\n",
       "Name: count, dtype: int64"
      ]
     },
     "execution_count": 7,
     "metadata": {},
     "output_type": "execute_result"
    }
   ],
   "source": [
    "orders.eval_set.value_counts()"
   ]
  },
  {
   "cell_type": "code",
   "execution_count": 8,
   "metadata": {
    "colab": {
     "base_uri": "https://localhost:8080/",
     "height": 210
    },
    "id": "JomFYWg0oGRX",
    "outputId": "548218b4-cda1-49b1-b157-905ba82f2cc2"
   },
   "outputs": [
    {
     "data": {
      "text/plain": [
       "eval_set\n",
       "prior    206209\n",
       "test      75000\n",
       "train    131209\n",
       "Name: user_id, dtype: int64"
      ]
     },
     "execution_count": 8,
     "metadata": {},
     "output_type": "execute_result"
    }
   ],
   "source": [
    "import numpy as np\n",
    "def get_unique_count(x):\n",
    "    return len(np.unique(x))\n",
    "cnt_srs = orders.groupby(\"eval_set\")[\"user_id\"].aggregate(get_unique_count)\n",
    "cnt_srs"
   ]
  },
  {
   "cell_type": "code",
   "execution_count": 9,
   "metadata": {
    "colab": {
     "base_uri": "https://localhost:8080/",
     "height": 769
    },
    "id": "JxaCouScoICq",
    "outputId": "5fe9c646-2a0f-4fdf-bb85-7a940a6c34b4"
   },
   "outputs": [
    {
     "data": {
      "image/png": "[encoded data removed]",
      "text/plain": [
       "<Figure size 1200x800 with 1 Axes>"
      ]
     },
     "metadata": {},
     "output_type": "display_data"
    }
   ],
   "source": [
    "import matplotlib.pyplot as plt\n",
    "cnt_srs = orders.groupby(\"user_id\")[\"order_number\"].aggregate(np.max).reset_index()\n",
    "cnt_srs = cnt_srs.order_number.value_counts()\n",
    "\n",
    "plt.figure(figsize=(12, 8))\n",
    "plt.bar(cnt_srs.index, cnt_srs.values, alpha=0.8, color='skyblue')  # Use 'skyblue' instead of color[2]\n",
    "plt.ylabel('Number of Occurrences', fontsize=12)\n",
    "plt.xlabel('Maximum order number', fontsize=12)\n",
    "plt.xticks(rotation='vertical')\n",
    "plt.show()"
   ]
  },
  {
   "cell_type": "code",
   "execution_count": 10,
   "metadata": {
    "colab": {
     "base_uri": "https://localhost:8080/",
     "height": 719
    },
    "id": "WWvkthmCqHWk",
    "outputId": "219f37ad-027e-49ed-fc7b-d7f046fdede1"
   },
   "outputs": [
    {
     "data": {
      "image/png": "[encoded data removed]",
      "text/plain": [
       "<Figure size 1200x800 with 1 Axes>"
      ]
     },
     "metadata": {},
     "output_type": "display_data"
    }
   ],
   "source": [
    "order_dow_counts = orders['order_dow'].value_counts()\n",
    "plt.figure(figsize=(12,8))\n",
    "plt.bar(order_dow_counts.index, order_dow_counts.values, color='coral')\n",
    "plt.ylabel('Count', fontsize=12)\n",
    "plt.xlabel('Day of week', fontsize=12)\n",
    "plt.xticks(rotation='vertical')\n",
    "plt.title(\"Frequency of order by week day\", fontsize=15)\n",
    "plt.show()"
   ]
  },
  {
   "cell_type": "code",
   "execution_count": 11,
   "metadata": {
    "colab": {
     "base_uri": "https://localhost:8080/",
     "height": 728
    },
    "id": "DCG8-8lMqNRU",
    "outputId": "3c364bf4-b89d-4e76-e2c9-dab263bad420"
   },
   "outputs": [
    {
     "data": {
      "image/png": "[encoded data removed]",
      "text/plain": [
       "<Figure size 1200x800 with 1 Axes>"
      ]
     },
     "metadata": {},
     "output_type": "display_data"
    }
   ],
   "source": [
    "order_hod = orders['order_hour_of_day'].value_counts()\n",
    "plt.figure(figsize=(12,8))\n",
    "plt.bar(order_hod.index, order_hod.values, color='coral')\n",
    "plt.ylabel('Count', fontsize=12)\n",
    "plt.xlabel('Hour', fontsize=12)\n",
    "plt.xticks(rotation='vertical')\n",
    "plt.title(\"Frequency of order by hour\", fontsize=15)\n",
    "plt.show()"
   ]
  },
  {
   "cell_type": "code",
   "execution_count": 12,
   "metadata": {
    "colab": {
     "base_uri": "https://localhost:8080/",
     "height": 570
    },
    "id": "TjPjgCvjqPhc",
    "outputId": "5c435fc8-bd63-4834-a439-ffe58d34bdb5"
   },
   "outputs": [
    {
     "data": {
      "image/png": "[encoded data removed]",
      "text/plain": [
       "<Figure size 1200x600 with 2 Axes>"
      ]
     },
     "metadata": {},
     "output_type": "display_data"
    }
   ],
   "source": [
    "grouped = orders.groupby([\"order_dow\", \"order_hour_of_day\"])[\"order_number\"].aggregate(\"count\").reset_index()\n",
    "days_of_week = grouped['order_dow'].unique()\n",
    "hours_of_day = grouped['order_hour_of_day'].unique()\n",
    "order_counts = grouped.pivot(index='order_dow', columns='order_hour_of_day', values='order_number').values\n",
    "\n",
    "plt.figure(figsize=(12, 6))\n",
    "heatmap = plt.pcolor(hours_of_day, days_of_week, order_counts, cmap='YlGnBu')  # Adjust colormap as needed\n",
    "\n",
    "# Customize labels and title\n",
    "plt.ylabel('Day of Week', fontsize=12)\n",
    "plt.xlabel('Hour of Day', fontsize=12)\n",
    "plt.xticks(rotation=0)  # Optional: Rotate x-axis labels for better readability\n",
    "plt.title(\"Frequency of Day of week Vs Hour of day\", fontsize=15)\n",
    "\n",
    "# Add colorbar\n",
    "plt.colorbar(heatmap, label='Order Count')\n",
    "\n",
    "plt.show()"
   ]
  },
  {
   "cell_type": "code",
   "execution_count": 13,
   "metadata": {
    "colab": {
     "base_uri": "https://localhost:8080/",
     "height": 206
    },
    "id": "iYZh43R1qRPN",
    "outputId": "d8725522-4bf8-4b66-e3c2-d69fcee7a0d9"
   },
   "outputs": [
    {
     "data": {
      "text/html": [
       "<div>\n",
       "<style scoped>\n",
       "    .dataframe tbody tr th:only-of-type {\n",
       "        vertical-align: middle;\n",
       "    }\n",
       "\n",
       "    .dataframe tbody tr th {\n",
       "        vertical-align: top;\n",
       "    }\n",
       "\n",
       "    .dataframe thead th {\n",
       "        text-align: right;\n",
       "    }\n",
       "</style>\n",
       "<table border=\"1\" class=\"dataframe\">\n",
       "  <thead>\n",
       "    <tr style=\"text-align: right;\">\n",
       "      <th></th>\n",
       "      <th>order_id</th>\n",
       "      <th>user_id</th>\n",
       "      <th>eval_set</th>\n",
       "      <th>order_number</th>\n",
       "      <th>order_dow</th>\n",
       "      <th>order_hour_of_day</th>\n",
       "      <th>days_since_prior_order</th>\n",
       "    </tr>\n",
       "  </thead>\n",
       "  <tbody>\n",
       "    <tr>\n",
       "      <th>38</th>\n",
       "      <td>2774568</td>\n",
       "      <td>3</td>\n",
       "      <td>test</td>\n",
       "      <td>13</td>\n",
       "      <td>5</td>\n",
       "      <td>15</td>\n",
       "      <td>11.0</td>\n",
       "    </tr>\n",
       "    <tr>\n",
       "      <th>44</th>\n",
       "      <td>329954</td>\n",
       "      <td>4</td>\n",
       "      <td>test</td>\n",
       "      <td>6</td>\n",
       "      <td>3</td>\n",
       "      <td>12</td>\n",
       "      <td>30.0</td>\n",
       "    </tr>\n",
       "    <tr>\n",
       "      <th>53</th>\n",
       "      <td>1528013</td>\n",
       "      <td>6</td>\n",
       "      <td>test</td>\n",
       "      <td>4</td>\n",
       "      <td>3</td>\n",
       "      <td>16</td>\n",
       "      <td>22.0</td>\n",
       "    </tr>\n",
       "    <tr>\n",
       "      <th>96</th>\n",
       "      <td>1376945</td>\n",
       "      <td>11</td>\n",
       "      <td>test</td>\n",
       "      <td>8</td>\n",
       "      <td>6</td>\n",
       "      <td>11</td>\n",
       "      <td>8.0</td>\n",
       "    </tr>\n",
       "    <tr>\n",
       "      <th>102</th>\n",
       "      <td>1356845</td>\n",
       "      <td>12</td>\n",
       "      <td>test</td>\n",
       "      <td>6</td>\n",
       "      <td>1</td>\n",
       "      <td>20</td>\n",
       "      <td>30.0</td>\n",
       "    </tr>\n",
       "  </tbody>\n",
       "</table>\n",
       "</div>"
      ],
      "text/plain": [
       "     order_id  user_id eval_set  order_number  order_dow  order_hour_of_day   \n",
       "38    2774568        3     test            13          5                 15  \\\n",
       "44     329954        4     test             6          3                 12   \n",
       "53    1528013        6     test             4          3                 16   \n",
       "96    1376945       11     test             8          6                 11   \n",
       "102   1356845       12     test             6          1                 20   \n",
       "\n",
       "     days_since_prior_order  \n",
       "38                     11.0  \n",
       "44                     30.0  \n",
       "53                     22.0  \n",
       "96                      8.0  \n",
       "102                    30.0  "
      ]
     },
     "execution_count": 13,
     "metadata": {},
     "output_type": "execute_result"
    }
   ],
   "source": [
    "orders[orders[\"eval_set\"]==\"test\"].head()"
   ]
  },
  {
   "cell_type": "code",
   "execution_count": 14,
   "metadata": {
    "colab": {
     "base_uri": "https://localhost:8080/",
     "height": 728
    },
    "id": "dClpXl8sqW-k",
    "outputId": "3936ec34-b203-4b37-8901-0df4c5796e63"
   },
   "outputs": [
    {
     "data": {
      "image/png": "[encoded data removed]",
      "text/plain": [
       "<Figure size 1200x800 with 1 Axes>"
      ]
     },
     "metadata": {},
     "output_type": "display_data"
    }
   ],
   "source": [
    "order_hod = orders['days_since_prior_order'].value_counts()\n",
    "plt.figure(figsize=(12,8))\n",
    "plt.bar(order_hod.index, order_hod.values, color='coral')\n",
    "plt.ylabel('Count', fontsize=12)\n",
    "plt.xlabel('Day of week', fontsize=12)\n",
    "plt.xticks(rotation='vertical')\n",
    "plt.title(\"Frequency of order by week day\", fontsize=15)\n",
    "plt.show()"
   ]
  },
  {
   "cell_type": "code",
   "execution_count": 16,
   "metadata": {
    "id": "R_7F3-zAqjPa"
   },
   "outputs": [],
   "source": [
    "#Merge orders with prior and train\n",
    "\n",
    "order_products_train_df = order_products_train.merge(orders.drop('eval_set', axis=1), on='order_id')\n",
    "order_products_prior_df = order_products_prior.merge(orders.drop('eval_set', axis=1), on='order_id')\n",
    "\n"
   ]
  },
  {
   "cell_type": "code",
   "execution_count": 17,
   "metadata": {
    "colab": {
     "base_uri": "https://localhost:8080/",
     "height": 206
    },
    "id": "BIkfVcuqq8Br",
    "outputId": "dea6dfd5-ddb7-4e1f-ec09-78cedc822a04"
   },
   "outputs": [
    {
     "data": {
      "text/html": [
       "<div>\n",
       "<style scoped>\n",
       "    .dataframe tbody tr th:only-of-type {\n",
       "        vertical-align: middle;\n",
       "    }\n",
       "\n",
       "    .dataframe tbody tr th {\n",
       "        vertical-align: top;\n",
       "    }\n",
       "\n",
       "    .dataframe thead th {\n",
       "        text-align: right;\n",
       "    }\n",
       "</style>\n",
       "<table border=\"1\" class=\"dataframe\">\n",
       "  <thead>\n",
       "    <tr style=\"text-align: right;\">\n",
       "      <th></th>\n",
       "      <th>order_id</th>\n",
       "      <th>product_id</th>\n",
       "      <th>add_to_cart_order</th>\n",
       "      <th>reordered</th>\n",
       "      <th>user_id</th>\n",
       "      <th>order_number</th>\n",
       "      <th>order_dow</th>\n",
       "      <th>order_hour_of_day</th>\n",
       "      <th>days_since_prior_order</th>\n",
       "    </tr>\n",
       "  </thead>\n",
       "  <tbody>\n",
       "    <tr>\n",
       "      <th>0</th>\n",
       "      <td>1</td>\n",
       "      <td>49302</td>\n",
       "      <td>1</td>\n",
       "      <td>1</td>\n",
       "      <td>112108</td>\n",
       "      <td>4</td>\n",
       "      <td>4</td>\n",
       "      <td>10</td>\n",
       "      <td>9.0</td>\n",
       "    </tr>\n",
       "    <tr>\n",
       "      <th>1</th>\n",
       "      <td>1</td>\n",
       "      <td>11109</td>\n",
       "      <td>2</td>\n",
       "      <td>1</td>\n",
       "      <td>112108</td>\n",
       "      <td>4</td>\n",
       "      <td>4</td>\n",
       "      <td>10</td>\n",
       "      <td>9.0</td>\n",
       "    </tr>\n",
       "    <tr>\n",
       "      <th>2</th>\n",
       "      <td>1</td>\n",
       "      <td>10246</td>\n",
       "      <td>3</td>\n",
       "      <td>0</td>\n",
       "      <td>112108</td>\n",
       "      <td>4</td>\n",
       "      <td>4</td>\n",
       "      <td>10</td>\n",
       "      <td>9.0</td>\n",
       "    </tr>\n",
       "    <tr>\n",
       "      <th>3</th>\n",
       "      <td>1</td>\n",
       "      <td>49683</td>\n",
       "      <td>4</td>\n",
       "      <td>0</td>\n",
       "      <td>112108</td>\n",
       "      <td>4</td>\n",
       "      <td>4</td>\n",
       "      <td>10</td>\n",
       "      <td>9.0</td>\n",
       "    </tr>\n",
       "    <tr>\n",
       "      <th>4</th>\n",
       "      <td>1</td>\n",
       "      <td>43633</td>\n",
       "      <td>5</td>\n",
       "      <td>1</td>\n",
       "      <td>112108</td>\n",
       "      <td>4</td>\n",
       "      <td>4</td>\n",
       "      <td>10</td>\n",
       "      <td>9.0</td>\n",
       "    </tr>\n",
       "  </tbody>\n",
       "</table>\n",
       "</div>"
      ],
      "text/plain": [
       "   order_id  product_id  add_to_cart_order  reordered  user_id  order_number   \n",
       "0         1       49302                  1          1   112108             4  \\\n",
       "1         1       11109                  2          1   112108             4   \n",
       "2         1       10246                  3          0   112108             4   \n",
       "3         1       49683                  4          0   112108             4   \n",
       "4         1       43633                  5          1   112108             4   \n",
       "\n",
       "   order_dow  order_hour_of_day  days_since_prior_order  \n",
       "0          4                 10                     9.0  \n",
       "1          4                 10                     9.0  \n",
       "2          4                 10                     9.0  \n",
       "3          4                 10                     9.0  \n",
       "4          4                 10                     9.0  "
      ]
     },
     "execution_count": 17,
     "metadata": {},
     "output_type": "execute_result"
    }
   ],
   "source": [
    "order_products_train_df.head()"
   ]
  },
  {
   "cell_type": "code",
   "execution_count": 18,
   "metadata": {
    "colab": {
     "base_uri": "https://localhost:8080/"
    },
    "id": "unuJRyfDrJOy",
    "outputId": "8eb1e538-cea3-4d30-97cf-5dd9dd642af9"
   },
   "outputs": [
    {
     "name": "stdout",
     "output_type": "stream",
     "text": [
      "   product_id  user_id  user_product_total_orders\n",
      "0           1      138                          2\n",
      "1           1      709                          1\n",
      "3           1      777                          1\n",
      "6           1     1052                          2\n",
      "9           1     1494                          3\n"
     ]
    }
   ],
   "source": [
    "#From prior, calculate each total orders of user and product\n",
    "user_product_df = (order_products_prior_df.groupby(['product_id','user_id'],as_index=False)\n",
    "                                          .agg({'order_id':'count'})\n",
    "                                          .rename(columns={'order_id':'user_product_total_orders'}))\n",
    "\n",
    "train_ids = order_products_train_df['user_id'].unique()\n",
    "\n",
    "#only user in train user\n",
    "df_X = user_product_df[user_product_df['user_id'].isin(train_ids)]\n",
    "print(df_X.head())"
   ]
  },
  {
   "cell_type": "code",
   "execution_count": 19,
   "metadata": {
    "id": "1CCIX5BfrMdY"
   },
   "outputs": [],
   "source": [
    "#Get latest order from order_products_train\n",
    "train_carts = (order_products_train_df.groupby('user_id',as_index=False)\n",
    "                                      .agg({'product_id':(lambda x: set(x))})\n",
    "                                      .rename(columns={'product_id':'latest_cart'}))"
   ]
  },
  {
   "cell_type": "code",
   "execution_count": 20,
   "metadata": {
    "colab": {
     "base_uri": "https://localhost:8080/"
    },
    "id": "_eadqyuHrUyf",
    "outputId": "6b8d6422-ba53-4d9d-d533-1a8b865a8680"
   },
   "outputs": [
    {
     "name": "stdout",
     "output_type": "stream",
     "text": [
      "   product_id  user_id  user_product_total_orders latest_cart  in_cart\n",
      "0           1      138                          2     {42475}        0\n",
      "1         907      138                          2     {42475}        0\n",
      "2        1000      138                          1     {42475}        0\n",
      "3        3265      138                          1     {42475}        0\n",
      "4        4913      138                          1     {42475}        0\n",
      "in_cart\n",
      "0    7645837\n",
      "1     828824\n",
      "Name: count, dtype: int64\n"
     ]
    }
   ],
   "source": [
    "#Merge lastest order with user and product buy in prior\n",
    "df_X = df_X.merge(train_carts, on='user_id')\n",
    "df_X['in_cart'] = (df_X.apply(lambda row: row['product_id'] in row['latest_cart'], axis=1).astype(int))\n",
    "\n",
    "print(df_X.head())\n",
    "\n",
    "print(df_X['in_cart'].value_counts())"
   ]
  },
  {
   "cell_type": "code",
   "execution_count": 21,
   "metadata": {
    "colab": {
     "base_uri": "https://localhost:8080/"
    },
    "id": "9FjeRuI7rY8-",
    "outputId": "dd57abfb-9962-4b0f-f94d-71aff8d7986b"
   },
   "outputs": [
    {
     "name": "stdout",
     "output_type": "stream",
     "text": [
      "   product_id  product_total_orders  product_avg_add_to_cart_order\n",
      "0           1                  1852                       5.801836\n",
      "1           2                    90                       9.888889\n",
      "2           3                   277                       6.415162\n",
      "3           4                   329                       9.507599\n",
      "4           5                    15                       6.466667\n"
     ]
    }
   ],
   "source": [
    "#Product feature: Total orders (how many orders include product), mean order add to cart\n",
    "prod_features = ['product_total_orders','product_avg_add_to_cart_order']\n",
    "\n",
    "prod_features_df = order_products_prior_df.groupby(['product_id'],as_index=False).agg(\n",
    "    product_total_orders= ('order_id','nunique'),\n",
    "    product_avg_add_to_cart_order = ('add_to_cart_order','mean')\n",
    ")\n",
    "#prod_features_df.columns = ['product_id'] + prod_features\n",
    "print(prod_features_df.head())"
   ]
  },
  {
   "cell_type": "code",
   "execution_count": 22,
   "metadata": {
    "id": "YAoHcov7xDpX"
   },
   "outputs": [],
   "source": []
  },
  {
   "cell_type": "code",
   "execution_count": 22,
   "metadata": {
    "colab": {
     "base_uri": "https://localhost:8080/",
     "height": 206
    },
    "id": "l5qcSRMjsWYw",
    "outputId": "91b578ee-5d13-46b7-e6fa-e0151c7358b3"
   },
   "outputs": [
    {
     "data": {
      "text/html": [
       "<div>\n",
       "<style scoped>\n",
       "    .dataframe tbody tr th:only-of-type {\n",
       "        vertical-align: middle;\n",
       "    }\n",
       "\n",
       "    .dataframe tbody tr th {\n",
       "        vertical-align: top;\n",
       "    }\n",
       "\n",
       "    .dataframe thead th {\n",
       "        text-align: right;\n",
       "    }\n",
       "</style>\n",
       "<table border=\"1\" class=\"dataframe\">\n",
       "  <thead>\n",
       "    <tr style=\"text-align: right;\">\n",
       "      <th></th>\n",
       "      <th>product_id</th>\n",
       "      <th>user_id</th>\n",
       "      <th>user_product_total_orders</th>\n",
       "      <th>latest_cart</th>\n",
       "      <th>in_cart</th>\n",
       "      <th>product_total_orders</th>\n",
       "      <th>product_avg_add_to_cart_order</th>\n",
       "    </tr>\n",
       "  </thead>\n",
       "  <tbody>\n",
       "    <tr>\n",
       "      <th>0</th>\n",
       "      <td>1</td>\n",
       "      <td>138</td>\n",
       "      <td>2</td>\n",
       "      <td>{42475}</td>\n",
       "      <td>0</td>\n",
       "      <td>1852</td>\n",
       "      <td>5.801836</td>\n",
       "    </tr>\n",
       "    <tr>\n",
       "      <th>1</th>\n",
       "      <td>1</td>\n",
       "      <td>709</td>\n",
       "      <td>1</td>\n",
       "      <td>{45444, 32005, 26893, 8859, 28577, 48036, 1027...</td>\n",
       "      <td>0</td>\n",
       "      <td>1852</td>\n",
       "      <td>5.801836</td>\n",
       "    </tr>\n",
       "    <tr>\n",
       "      <th>2</th>\n",
       "      <td>1</td>\n",
       "      <td>777</td>\n",
       "      <td>1</td>\n",
       "      <td>{43352, 6184, 16797}</td>\n",
       "      <td>0</td>\n",
       "      <td>1852</td>\n",
       "      <td>5.801836</td>\n",
       "    </tr>\n",
       "    <tr>\n",
       "      <th>3</th>\n",
       "      <td>1</td>\n",
       "      <td>1052</td>\n",
       "      <td>2</td>\n",
       "      <td>{17207}</td>\n",
       "      <td>0</td>\n",
       "      <td>1852</td>\n",
       "      <td>5.801836</td>\n",
       "    </tr>\n",
       "    <tr>\n",
       "      <th>4</th>\n",
       "      <td>1</td>\n",
       "      <td>1494</td>\n",
       "      <td>3</td>\n",
       "      <td>{44560}</td>\n",
       "      <td>0</td>\n",
       "      <td>1852</td>\n",
       "      <td>5.801836</td>\n",
       "    </tr>\n",
       "  </tbody>\n",
       "</table>\n",
       "</div>"
      ],
      "text/plain": [
       "   product_id  user_id  user_product_total_orders   \n",
       "0           1      138                          2  \\\n",
       "1           1      709                          1   \n",
       "2           1      777                          1   \n",
       "3           1     1052                          2   \n",
       "4           1     1494                          3   \n",
       "\n",
       "                                         latest_cart  in_cart   \n",
       "0                                            {42475}        0  \\\n",
       "1  {45444, 32005, 26893, 8859, 28577, 48036, 1027...        0   \n",
       "2                               {43352, 6184, 16797}        0   \n",
       "3                                            {17207}        0   \n",
       "4                                            {44560}        0   \n",
       "\n",
       "   product_total_orders  product_avg_add_to_cart_order  \n",
       "0                  1852                       5.801836  \n",
       "1                  1852                       5.801836  \n",
       "2                  1852                       5.801836  \n",
       "3                  1852                       5.801836  \n",
       "4                  1852                       5.801836  "
      ]
     },
     "execution_count": 22,
     "metadata": {},
     "output_type": "execute_result"
    }
   ],
   "source": [
    "#Merge df_X with production features\n",
    "df_X = df_X.merge(prod_features_df, on='product_id')\n",
    "df_X.head()"
   ]
  },
  {
   "cell_type": "code",
   "execution_count": 23,
   "metadata": {
    "id": "c2WnutKLs21Z"
   },
   "outputs": [],
   "source": [
    "df_X = df_X.dropna()"
   ]
  },
  {
   "cell_type": "code",
   "execution_count": 24,
   "metadata": {
    "colab": {
     "base_uri": "https://localhost:8080/",
     "height": 206
    },
    "id": "avJPWUSPw_zN",
    "outputId": "8153d763-c70a-441c-eb94-bec69b5fe204"
   },
   "outputs": [
    {
     "data": {
      "text/html": [
       "<div>\n",
       "<style scoped>\n",
       "    .dataframe tbody tr th:only-of-type {\n",
       "        vertical-align: middle;\n",
       "    }\n",
       "\n",
       "    .dataframe tbody tr th {\n",
       "        vertical-align: top;\n",
       "    }\n",
       "\n",
       "    .dataframe thead th {\n",
       "        text-align: right;\n",
       "    }\n",
       "</style>\n",
       "<table border=\"1\" class=\"dataframe\">\n",
       "  <thead>\n",
       "    <tr style=\"text-align: right;\">\n",
       "      <th></th>\n",
       "      <th>product_id</th>\n",
       "      <th>user_id</th>\n",
       "      <th>user_product_total_orders</th>\n",
       "      <th>latest_cart</th>\n",
       "      <th>in_cart</th>\n",
       "      <th>product_total_orders</th>\n",
       "      <th>product_avg_add_to_cart_order</th>\n",
       "    </tr>\n",
       "  </thead>\n",
       "  <tbody>\n",
       "    <tr>\n",
       "      <th>0</th>\n",
       "      <td>1</td>\n",
       "      <td>138</td>\n",
       "      <td>2</td>\n",
       "      <td>{42475}</td>\n",
       "      <td>0</td>\n",
       "      <td>1852</td>\n",
       "      <td>5.801836</td>\n",
       "    </tr>\n",
       "    <tr>\n",
       "      <th>1</th>\n",
       "      <td>1</td>\n",
       "      <td>709</td>\n",
       "      <td>1</td>\n",
       "      <td>{45444, 32005, 26893, 8859, 28577, 48036, 1027...</td>\n",
       "      <td>0</td>\n",
       "      <td>1852</td>\n",
       "      <td>5.801836</td>\n",
       "    </tr>\n",
       "    <tr>\n",
       "      <th>2</th>\n",
       "      <td>1</td>\n",
       "      <td>777</td>\n",
       "      <td>1</td>\n",
       "      <td>{43352, 6184, 16797}</td>\n",
       "      <td>0</td>\n",
       "      <td>1852</td>\n",
       "      <td>5.801836</td>\n",
       "    </tr>\n",
       "    <tr>\n",
       "      <th>3</th>\n",
       "      <td>1</td>\n",
       "      <td>1052</td>\n",
       "      <td>2</td>\n",
       "      <td>{17207}</td>\n",
       "      <td>0</td>\n",
       "      <td>1852</td>\n",
       "      <td>5.801836</td>\n",
       "    </tr>\n",
       "    <tr>\n",
       "      <th>4</th>\n",
       "      <td>1</td>\n",
       "      <td>1494</td>\n",
       "      <td>3</td>\n",
       "      <td>{44560}</td>\n",
       "      <td>0</td>\n",
       "      <td>1852</td>\n",
       "      <td>5.801836</td>\n",
       "    </tr>\n",
       "  </tbody>\n",
       "</table>\n",
       "</div>"
      ],
      "text/plain": [
       "   product_id  user_id  user_product_total_orders   \n",
       "0           1      138                          2  \\\n",
       "1           1      709                          1   \n",
       "2           1      777                          1   \n",
       "3           1     1052                          2   \n",
       "4           1     1494                          3   \n",
       "\n",
       "                                         latest_cart  in_cart   \n",
       "0                                            {42475}        0  \\\n",
       "1  {45444, 32005, 26893, 8859, 28577, 48036, 1027...        0   \n",
       "2                               {43352, 6184, 16797}        0   \n",
       "3                                            {17207}        0   \n",
       "4                                            {44560}        0   \n",
       "\n",
       "   product_total_orders  product_avg_add_to_cart_order  \n",
       "0                  1852                       5.801836  \n",
       "1                  1852                       5.801836  \n",
       "2                  1852                       5.801836  \n",
       "3                  1852                       5.801836  \n",
       "4                  1852                       5.801836  "
      ]
     },
     "execution_count": 24,
     "metadata": {},
     "output_type": "execute_result"
    }
   ],
   "source": [
    "df_X.head()"
   ]
  },
  {
   "cell_type": "code",
   "execution_count": 25,
   "metadata": {
    "id": "8myd0Jdl06wp"
   },
   "outputs": [],
   "source": [
    "user_features_df = order_products_prior_df.groupby(['user_id'],as_index=False).agg(\n",
    "    user_total_orders=('order_id','nunique'),\n",
    "    user_avg_cartsize=('order_id',lambda x: x.shape[0] / x.nunique()),\n",
    "    user_total_products=('product_id','nunique'),\n",
    "    user_avg_days_since_prior_order=('days_since_prior_order','mean')\n",
    ")"
   ]
  },
  {
   "cell_type": "code",
   "execution_count": null,
   "metadata": {
    "id": "3f0m5M8v2ilW"
   },
   "outputs": [],
   "source": []
  },
  {
   "cell_type": "code",
   "execution_count": 26,
   "metadata": {
    "colab": {
     "base_uri": "https://localhost:8080/",
     "height": 226
    },
    "id": "1yqO3cxq2Sfs",
    "outputId": "468fa84f-dd4b-4b8c-f9b1-bb2a19666631"
   },
   "outputs": [
    {
     "data": {
      "text/html": [
       "<div>\n",
       "<style scoped>\n",
       "    .dataframe tbody tr th:only-of-type {\n",
       "        vertical-align: middle;\n",
       "    }\n",
       "\n",
       "    .dataframe tbody tr th {\n",
       "        vertical-align: top;\n",
       "    }\n",
       "\n",
       "    .dataframe thead th {\n",
       "        text-align: right;\n",
       "    }\n",
       "</style>\n",
       "<table border=\"1\" class=\"dataframe\">\n",
       "  <thead>\n",
       "    <tr style=\"text-align: right;\">\n",
       "      <th></th>\n",
       "      <th>product_id</th>\n",
       "      <th>user_id</th>\n",
       "      <th>user_product_total_orders</th>\n",
       "      <th>latest_cart</th>\n",
       "      <th>in_cart</th>\n",
       "      <th>product_total_orders</th>\n",
       "      <th>product_avg_add_to_cart_order</th>\n",
       "      <th>user_total_orders</th>\n",
       "      <th>user_avg_cartsize</th>\n",
       "      <th>user_total_products</th>\n",
       "      <th>user_avg_days_since_prior_order</th>\n",
       "    </tr>\n",
       "  </thead>\n",
       "  <tbody>\n",
       "    <tr>\n",
       "      <th>0</th>\n",
       "      <td>1</td>\n",
       "      <td>138</td>\n",
       "      <td>2</td>\n",
       "      <td>{42475}</td>\n",
       "      <td>0</td>\n",
       "      <td>1852</td>\n",
       "      <td>5.801836</td>\n",
       "      <td>32</td>\n",
       "      <td>4.625</td>\n",
       "      <td>55</td>\n",
       "      <td>10.4</td>\n",
       "    </tr>\n",
       "    <tr>\n",
       "      <th>1</th>\n",
       "      <td>907</td>\n",
       "      <td>138</td>\n",
       "      <td>2</td>\n",
       "      <td>{42475}</td>\n",
       "      <td>0</td>\n",
       "      <td>2025</td>\n",
       "      <td>3.653333</td>\n",
       "      <td>32</td>\n",
       "      <td>4.625</td>\n",
       "      <td>55</td>\n",
       "      <td>10.4</td>\n",
       "    </tr>\n",
       "    <tr>\n",
       "      <th>2</th>\n",
       "      <td>1000</td>\n",
       "      <td>138</td>\n",
       "      <td>1</td>\n",
       "      <td>{42475}</td>\n",
       "      <td>0</td>\n",
       "      <td>2610</td>\n",
       "      <td>9.503448</td>\n",
       "      <td>32</td>\n",
       "      <td>4.625</td>\n",
       "      <td>55</td>\n",
       "      <td>10.4</td>\n",
       "    </tr>\n",
       "    <tr>\n",
       "      <th>3</th>\n",
       "      <td>3265</td>\n",
       "      <td>138</td>\n",
       "      <td>1</td>\n",
       "      <td>{42475}</td>\n",
       "      <td>0</td>\n",
       "      <td>5270</td>\n",
       "      <td>6.285958</td>\n",
       "      <td>32</td>\n",
       "      <td>4.625</td>\n",
       "      <td>55</td>\n",
       "      <td>10.4</td>\n",
       "    </tr>\n",
       "    <tr>\n",
       "      <th>4</th>\n",
       "      <td>4913</td>\n",
       "      <td>138</td>\n",
       "      <td>1</td>\n",
       "      <td>{42475}</td>\n",
       "      <td>0</td>\n",
       "      <td>952</td>\n",
       "      <td>5.534664</td>\n",
       "      <td>32</td>\n",
       "      <td>4.625</td>\n",
       "      <td>55</td>\n",
       "      <td>10.4</td>\n",
       "    </tr>\n",
       "  </tbody>\n",
       "</table>\n",
       "</div>"
      ],
      "text/plain": [
       "   product_id  user_id  user_product_total_orders latest_cart  in_cart   \n",
       "0           1      138                          2     {42475}        0  \\\n",
       "1         907      138                          2     {42475}        0   \n",
       "2        1000      138                          1     {42475}        0   \n",
       "3        3265      138                          1     {42475}        0   \n",
       "4        4913      138                          1     {42475}        0   \n",
       "\n",
       "   product_total_orders  product_avg_add_to_cart_order  user_total_orders   \n",
       "0                  1852                       5.801836                 32  \\\n",
       "1                  2025                       3.653333                 32   \n",
       "2                  2610                       9.503448                 32   \n",
       "3                  5270                       6.285958                 32   \n",
       "4                   952                       5.534664                 32   \n",
       "\n",
       "   user_avg_cartsize  user_total_products  user_avg_days_since_prior_order  \n",
       "0              4.625                   55                             10.4  \n",
       "1              4.625                   55                             10.4  \n",
       "2              4.625                   55                             10.4  \n",
       "3              4.625                   55                             10.4  \n",
       "4              4.625                   55                             10.4  "
      ]
     },
     "execution_count": 26,
     "metadata": {},
     "output_type": "execute_result"
    }
   ],
   "source": [
    "df_X = df_X.merge(user_features_df, on='user_id')\n",
    "\n",
    "#note that dropping rows with NA product_avg_days_since_prior_order is likely a naive choice\n",
    "df_X = df_X.dropna()\n",
    "df_X.head()"
   ]
  },
  {
   "cell_type": "code",
   "execution_count": 27,
   "metadata": {
    "id": "6xRyQ840y9w1"
   },
   "outputs": [],
   "source": [
    "#Product-user feature: average add to order\\\n",
    "user_prod_features = ['user_product_avg_add_to_cart_order']\n",
    "user_prod_features_df = order_products_prior_df.groupby(['product_id','user_id'],as_index=False).agg(\n",
    "    user_product_avg_add_to_cart_order=(\"add_to_cart_order\",\"mean\"))\n",
    "\n",
    "user_prod_features_df.columns = ['product_id','user_id'] + user_prod_features\n",
    "df_X = df_X.merge(user_prod_features_df,on=['user_id','product_id'])\n",
    "df_X['user_product_order_freq'] = df_X['user_product_total_orders'] / df_X['user_total_orders']"
   ]
  },
  {
   "cell_type": "code",
   "execution_count": 28,
   "metadata": {
    "id": "BuuI-v_93Jic"
   },
   "outputs": [],
   "source": [
    "from collections import OrderedDict\n",
    "#Add user feature: Average day of week, hour of day order\n",
    "user_features = ['user_avg_order_dow','user_avg_order_hour_of_day']\n",
    "\n",
    "user_features_df = (order_products_prior_df.groupby(['user_id'],as_index=False)\n",
    "                                           .agg(OrderedDict(\n",
    "                                                   [('order_dow','mean'),\n",
    "                                                    ('order_hour_of_day','mean')])))\n",
    "\n",
    "user_features_df.columns = ['user_id'] + user_features\n",
    "df_X = df_X.merge(user_features_df, on='user_id')\n",
    "df_X = df_X.dropna()\n"
   ]
  },
  {
   "cell_type": "code",
   "execution_count": 29,
   "metadata": {
    "id": "6n_57Ix-23E_"
   },
   "outputs": [],
   "source": [
    "#Add production features (average day of week, house of day, day since prior order )\n",
    "prod_features = ['product_avg_order_dow', 'product_avg_order_hour_of_day', 'product_avg_days_since_prior_order']\n",
    "\n",
    "prod_features_df = (order_products_prior_df.groupby(['product_id'], as_index=False)\n",
    "                                     .agg(OrderedDict(\n",
    "                                     [('order_dow','mean'),\n",
    "                                      ('order_hour_of_day', 'mean'),\n",
    "                                      ('days_since_prior_order', 'mean')])))\n",
    "\n",
    "prod_features_df.columns = ['product_id'] + prod_features\n",
    "\n",
    "df_X = df_X.merge(prod_features_df, on='product_id')\n",
    "df_X = df_X.dropna()\n"
   ]
  },
  {
   "cell_type": "code",
   "execution_count": 30,
   "metadata": {
    "id": "qPg8oqUu3SXm"
   },
   "outputs": [],
   "source": [
    "user_prod_features = ['user_product_avg_days_since_prior_order',\n",
    "                      'user_product_avg_order_dow',\n",
    "                      'user_product_avg_order_hour_of_day']\n",
    "\n",
    "user_prod_features_df = (order_products_prior_df.groupby(['product_id','user_id'],as_index=False) \\\n",
    "                                                .agg(OrderedDict(\n",
    "                                                     [('days_since_prior_order','mean'),\n",
    "                                                     ('order_dow','mean'),\n",
    "                                                     ('order_hour_of_day','mean')])))\n",
    "\n",
    "user_prod_features_df.columns = ['product_id','user_id'] + user_prod_features\n",
    "\n",
    "df_X = df_X.merge(user_prod_features_df, on=['user_id', 'product_id'])\n",
    "df_X = df_X.dropna()"
   ]
  },
  {
   "cell_type": "code",
   "execution_count": 31,
   "metadata": {
    "id": "ZTclPeVo0U-8"
   },
   "outputs": [],
   "source": [
    "f_departments_df = products.merge(departments, on = 'department_id')\n",
    "f_departments_df = f_departments_df[['product_id', 'department']]"
   ]
  },
  {
   "cell_type": "code",
   "execution_count": 32,
   "metadata": {
    "colab": {
     "base_uri": "https://localhost:8080/",
     "height": 206
    },
    "id": "uXxR4RPx5EG8",
    "outputId": "b7ec8727-a461-46eb-a4f0-ab5e1a049a81"
   },
   "outputs": [
    {
     "data": {
      "text/html": [
       "<div>\n",
       "<style scoped>\n",
       "    .dataframe tbody tr th:only-of-type {\n",
       "        vertical-align: middle;\n",
       "    }\n",
       "\n",
       "    .dataframe tbody tr th {\n",
       "        vertical-align: top;\n",
       "    }\n",
       "\n",
       "    .dataframe thead th {\n",
       "        text-align: right;\n",
       "    }\n",
       "</style>\n",
       "<table border=\"1\" class=\"dataframe\">\n",
       "  <thead>\n",
       "    <tr style=\"text-align: right;\">\n",
       "      <th></th>\n",
       "      <th>product_id</th>\n",
       "      <th>department</th>\n",
       "    </tr>\n",
       "  </thead>\n",
       "  <tbody>\n",
       "    <tr>\n",
       "      <th>0</th>\n",
       "      <td>1</td>\n",
       "      <td>snacks</td>\n",
       "    </tr>\n",
       "    <tr>\n",
       "      <th>1</th>\n",
       "      <td>16</td>\n",
       "      <td>snacks</td>\n",
       "    </tr>\n",
       "    <tr>\n",
       "      <th>2</th>\n",
       "      <td>25</td>\n",
       "      <td>snacks</td>\n",
       "    </tr>\n",
       "    <tr>\n",
       "      <th>3</th>\n",
       "      <td>32</td>\n",
       "      <td>snacks</td>\n",
       "    </tr>\n",
       "    <tr>\n",
       "      <th>4</th>\n",
       "      <td>41</td>\n",
       "      <td>snacks</td>\n",
       "    </tr>\n",
       "  </tbody>\n",
       "</table>\n",
       "</div>"
      ],
      "text/plain": [
       "   product_id department\n",
       "0           1     snacks\n",
       "1          16     snacks\n",
       "2          25     snacks\n",
       "3          32     snacks\n",
       "4          41     snacks"
      ]
     },
     "execution_count": 32,
     "metadata": {},
     "output_type": "execute_result"
    }
   ],
   "source": [
    "f_departments_df.head()"
   ]
  },
  {
   "cell_type": "code",
   "execution_count": 33,
   "metadata": {
    "id": "wm-fJPtQ47W_"
   },
   "outputs": [],
   "source": [
    "df_X = df_X.merge(f_departments_df, on = 'product_id')\n",
    "df_X = df_X.dropna()\n",
    "df_X = pd.concat([df_X, pd.get_dummies(df_X['department'])], axis=1)\n",
    "del df_X['department']\n"
   ]
  },
  {
   "cell_type": "code",
   "execution_count": 34,
   "metadata": {
    "colab": {
     "base_uri": "https://localhost:8080/"
    },
    "id": "oTS1wQPC5Ldf",
    "outputId": "9c01ccbb-b1ee-4461-a42e-ac8913002b82"
   },
   "outputs": [
    {
     "data": {
      "text/plain": [
       "Index(['product_id', 'user_id', 'user_product_total_orders', 'latest_cart',\n",
       "       'in_cart', 'product_total_orders', 'product_avg_add_to_cart_order',\n",
       "       'user_total_orders', 'user_avg_cartsize', 'user_total_products',\n",
       "       'user_avg_days_since_prior_order', 'user_product_avg_add_to_cart_order',\n",
       "       'user_product_order_freq', 'user_avg_order_dow',\n",
       "       'user_avg_order_hour_of_day', 'product_avg_order_dow',\n",
       "       'product_avg_order_hour_of_day', 'product_avg_days_since_prior_order',\n",
       "       'user_product_avg_days_since_prior_order', 'user_product_avg_order_dow',\n",
       "       'user_product_avg_order_hour_of_day', 'alcohol', 'babies', 'bakery',\n",
       "       'beverages', 'breakfast', 'bulk', 'canned goods', 'dairy eggs', 'deli',\n",
       "       'dry goods pasta', 'frozen', 'household', 'international',\n",
       "       'meat seafood', 'missing', 'other', 'pantry', 'personal care', 'pets',\n",
       "       'produce', 'snacks'],\n",
       "      dtype='object')"
      ]
     },
     "execution_count": 34,
     "metadata": {},
     "output_type": "execute_result"
    }
   ],
   "source": [
    "df_X.columns"
   ]
  },
  {
   "cell_type": "code",
   "execution_count": 35,
   "metadata": {
    "id": "C9JxQsUx5PRj"
   },
   "outputs": [],
   "source": [
    "import numpy as np\n",
    "np.random.seed(42)\n",
    "#Train 80%, test 20%\n",
    "total_users = df_X['user_id'].unique()\n",
    "test_users = np.random.choice(total_users, size=int(total_users.shape[0] * 0.2), replace=False)\n",
    "\n",
    "\n",
    "#cross validation split\n",
    "test_user_sets = []\n",
    "length = len(test_users)\n",
    "cv = 8\n",
    "\n",
    "#split test users to 8\n",
    "for x in range (0, cv):\n",
    "    start = int(x/cv*length)\n",
    "    finish = int((x+1)/cv*length)\n",
    "    test_user_sets.append(test_users[start:finish])\n",
    "\n",
    "cv_f1_scores = []\n",
    "cv_f1_scores_balanced = []\n",
    "cv_f1_scores_10fit = []\n"
   ]
  },
  {
   "cell_type": "code",
   "execution_count": null,
   "metadata": {
    "id": "SJK88yge5zo0"
   },
   "outputs": [],
   "source": []
  },
  {
   "cell_type": "code",
   "execution_count": 36,
   "metadata": {
    "id": "8dM-GTHN5XKR"
   },
   "outputs": [
    {
     "name": "stderr",
     "output_type": "stream",
     "text": [
      "/opt/conda/lib/python3.8/site-packages/sklearn/linear_model/_logistic.py:458: ConvergenceWarning: lbfgs failed to converge (status=1):\n",
      "STOP: TOTAL NO. of ITERATIONS REACHED LIMIT.\n",
      "\n",
      "Increase the number of iterations (max_iter) or scale the data as shown in:\n",
      "    https://scikit-learn.org/stable/modules/preprocessing.html\n",
      "Please also refer to the documentation for alternative solver options:\n",
      "    https://scikit-learn.org/stable/modules/linear_model.html#logistic-regression\n",
      "  n_iter_i = _check_optimize_result(\n",
      "/opt/conda/lib/python3.8/site-packages/sklearn/linear_model/_logistic.py:458: ConvergenceWarning: lbfgs failed to converge (status=1):\n",
      "STOP: TOTAL NO. of ITERATIONS REACHED LIMIT.\n",
      "\n",
      "Increase the number of iterations (max_iter) or scale the data as shown in:\n",
      "    https://scikit-learn.org/stable/modules/preprocessing.html\n",
      "Please also refer to the documentation for alternative solver options:\n",
      "    https://scikit-learn.org/stable/modules/linear_model.html#logistic-regression\n",
      "  n_iter_i = _check_optimize_result(\n",
      "/opt/conda/lib/python3.8/site-packages/sklearn/linear_model/_logistic.py:458: ConvergenceWarning: lbfgs failed to converge (status=1):\n",
      "STOP: TOTAL NO. of ITERATIONS REACHED LIMIT.\n",
      "\n",
      "Increase the number of iterations (max_iter) or scale the data as shown in:\n",
      "    https://scikit-learn.org/stable/modules/preprocessing.html\n",
      "Please also refer to the documentation for alternative solver options:\n",
      "    https://scikit-learn.org/stable/modules/linear_model.html#logistic-regression\n",
      "  n_iter_i = _check_optimize_result(\n",
      "/opt/conda/lib/python3.8/site-packages/sklearn/linear_model/_logistic.py:458: ConvergenceWarning: lbfgs failed to converge (status=1):\n",
      "STOP: TOTAL NO. of ITERATIONS REACHED LIMIT.\n",
      "\n",
      "Increase the number of iterations (max_iter) or scale the data as shown in:\n",
      "    https://scikit-learn.org/stable/modules/preprocessing.html\n",
      "Please also refer to the documentation for alternative solver options:\n",
      "    https://scikit-learn.org/stable/modules/linear_model.html#logistic-regression\n",
      "  n_iter_i = _check_optimize_result(\n",
      "/opt/conda/lib/python3.8/site-packages/sklearn/linear_model/_logistic.py:458: ConvergenceWarning: lbfgs failed to converge (status=1):\n",
      "STOP: TOTAL NO. of ITERATIONS REACHED LIMIT.\n",
      "\n",
      "Increase the number of iterations (max_iter) or scale the data as shown in:\n",
      "    https://scikit-learn.org/stable/modules/preprocessing.html\n",
      "Please also refer to the documentation for alternative solver options:\n",
      "    https://scikit-learn.org/stable/modules/linear_model.html#logistic-regression\n",
      "  n_iter_i = _check_optimize_result(\n",
      "/opt/conda/lib/python3.8/site-packages/sklearn/linear_model/_logistic.py:458: ConvergenceWarning: lbfgs failed to converge (status=1):\n",
      "STOP: TOTAL NO. of ITERATIONS REACHED LIMIT.\n",
      "\n",
      "Increase the number of iterations (max_iter) or scale the data as shown in:\n",
      "    https://scikit-learn.org/stable/modules/preprocessing.html\n",
      "Please also refer to the documentation for alternative solver options:\n",
      "    https://scikit-learn.org/stable/modules/linear_model.html#logistic-regression\n",
      "  n_iter_i = _check_optimize_result(\n",
      "/opt/conda/lib/python3.8/site-packages/sklearn/linear_model/_logistic.py:458: ConvergenceWarning: lbfgs failed to converge (status=1):\n",
      "STOP: TOTAL NO. of ITERATIONS REACHED LIMIT.\n",
      "\n",
      "Increase the number of iterations (max_iter) or scale the data as shown in:\n",
      "    https://scikit-learn.org/stable/modules/preprocessing.html\n",
      "Please also refer to the documentation for alternative solver options:\n",
      "    https://scikit-learn.org/stable/modules/linear_model.html#logistic-regression\n",
      "  n_iter_i = _check_optimize_result(\n",
      "/opt/conda/lib/python3.8/site-packages/sklearn/linear_model/_logistic.py:458: ConvergenceWarning: lbfgs failed to converge (status=1):\n",
      "STOP: TOTAL NO. of ITERATIONS REACHED LIMIT.\n",
      "\n",
      "Increase the number of iterations (max_iter) or scale the data as shown in:\n",
      "    https://scikit-learn.org/stable/modules/preprocessing.html\n",
      "Please also refer to the documentation for alternative solver options:\n",
      "    https://scikit-learn.org/stable/modules/linear_model.html#logistic-regression\n",
      "  n_iter_i = _check_optimize_result(\n",
      "/opt/conda/lib/python3.8/site-packages/sklearn/linear_model/_logistic.py:458: ConvergenceWarning: lbfgs failed to converge (status=1):\n",
      "STOP: TOTAL NO. of ITERATIONS REACHED LIMIT.\n",
      "\n",
      "Increase the number of iterations (max_iter) or scale the data as shown in:\n",
      "    https://scikit-learn.org/stable/modules/preprocessing.html\n",
      "Please also refer to the documentation for alternative solver options:\n",
      "    https://scikit-learn.org/stable/modules/linear_model.html#logistic-regression\n",
      "  n_iter_i = _check_optimize_result(\n",
      "/opt/conda/lib/python3.8/site-packages/sklearn/linear_model/_logistic.py:458: ConvergenceWarning: lbfgs failed to converge (status=1):\n",
      "STOP: TOTAL NO. of ITERATIONS REACHED LIMIT.\n",
      "\n",
      "Increase the number of iterations (max_iter) or scale the data as shown in:\n",
      "    https://scikit-learn.org/stable/modules/preprocessing.html\n",
      "Please also refer to the documentation for alternative solver options:\n",
      "    https://scikit-learn.org/stable/modules/linear_model.html#logistic-regression\n",
      "  n_iter_i = _check_optimize_result(\n",
      "/opt/conda/lib/python3.8/site-packages/sklearn/linear_model/_logistic.py:458: ConvergenceWarning: lbfgs failed to converge (status=1):\n",
      "STOP: TOTAL NO. of ITERATIONS REACHED LIMIT.\n",
      "\n",
      "Increase the number of iterations (max_iter) or scale the data as shown in:\n",
      "    https://scikit-learn.org/stable/modules/preprocessing.html\n",
      "Please also refer to the documentation for alternative solver options:\n",
      "    https://scikit-learn.org/stable/modules/linear_model.html#logistic-regression\n",
      "  n_iter_i = _check_optimize_result(\n",
      "/opt/conda/lib/python3.8/site-packages/sklearn/linear_model/_logistic.py:458: ConvergenceWarning: lbfgs failed to converge (status=1):\n",
      "STOP: TOTAL NO. of ITERATIONS REACHED LIMIT.\n",
      "\n",
      "Increase the number of iterations (max_iter) or scale the data as shown in:\n",
      "    https://scikit-learn.org/stable/modules/preprocessing.html\n",
      "Please also refer to the documentation for alternative solver options:\n",
      "    https://scikit-learn.org/stable/modules/linear_model.html#logistic-regression\n",
      "  n_iter_i = _check_optimize_result(\n",
      "/opt/conda/lib/python3.8/site-packages/sklearn/linear_model/_logistic.py:458: ConvergenceWarning: lbfgs failed to converge (status=1):\n",
      "STOP: TOTAL NO. of ITERATIONS REACHED LIMIT.\n",
      "\n",
      "Increase the number of iterations (max_iter) or scale the data as shown in:\n",
      "    https://scikit-learn.org/stable/modules/preprocessing.html\n",
      "Please also refer to the documentation for alternative solver options:\n",
      "    https://scikit-learn.org/stable/modules/linear_model.html#logistic-regression\n",
      "  n_iter_i = _check_optimize_result(\n",
      "/opt/conda/lib/python3.8/site-packages/sklearn/linear_model/_logistic.py:458: ConvergenceWarning: lbfgs failed to converge (status=1):\n",
      "STOP: TOTAL NO. of ITERATIONS REACHED LIMIT.\n",
      "\n",
      "Increase the number of iterations (max_iter) or scale the data as shown in:\n",
      "    https://scikit-learn.org/stable/modules/preprocessing.html\n",
      "Please also refer to the documentation for alternative solver options:\n",
      "    https://scikit-learn.org/stable/modules/linear_model.html#logistic-regression\n",
      "  n_iter_i = _check_optimize_result(\n",
      "/opt/conda/lib/python3.8/site-packages/sklearn/linear_model/_logistic.py:458: ConvergenceWarning: lbfgs failed to converge (status=1):\n",
      "STOP: TOTAL NO. of ITERATIONS REACHED LIMIT.\n",
      "\n",
      "Increase the number of iterations (max_iter) or scale the data as shown in:\n",
      "    https://scikit-learn.org/stable/modules/preprocessing.html\n",
      "Please also refer to the documentation for alternative solver options:\n",
      "    https://scikit-learn.org/stable/modules/linear_model.html#logistic-regression\n",
      "  n_iter_i = _check_optimize_result(\n",
      "/opt/conda/lib/python3.8/site-packages/sklearn/linear_model/_logistic.py:458: ConvergenceWarning: lbfgs failed to converge (status=1):\n",
      "STOP: TOTAL NO. of ITERATIONS REACHED LIMIT.\n",
      "\n",
      "Increase the number of iterations (max_iter) or scale the data as shown in:\n",
      "    https://scikit-learn.org/stable/modules/preprocessing.html\n",
      "Please also refer to the documentation for alternative solver options:\n",
      "    https://scikit-learn.org/stable/modules/linear_model.html#logistic-regression\n",
      "  n_iter_i = _check_optimize_result(\n",
      "/opt/conda/lib/python3.8/site-packages/sklearn/linear_model/_logistic.py:458: ConvergenceWarning: lbfgs failed to converge (status=1):\n",
      "STOP: TOTAL NO. of ITERATIONS REACHED LIMIT.\n",
      "\n",
      "Increase the number of iterations (max_iter) or scale the data as shown in:\n",
      "    https://scikit-learn.org/stable/modules/preprocessing.html\n",
      "Please also refer to the documentation for alternative solver options:\n",
      "    https://scikit-learn.org/stable/modules/linear_model.html#logistic-regression\n",
      "  n_iter_i = _check_optimize_result(\n"
     ]
    },
    {
     "name": "stderr",
     "output_type": "stream",
     "text": [
      "/opt/conda/lib/python3.8/site-packages/sklearn/linear_model/_logistic.py:458: ConvergenceWarning: lbfgs failed to converge (status=1):\n",
      "STOP: TOTAL NO. of ITERATIONS REACHED LIMIT.\n",
      "\n",
      "Increase the number of iterations (max_iter) or scale the data as shown in:\n",
      "    https://scikit-learn.org/stable/modules/preprocessing.html\n",
      "Please also refer to the documentation for alternative solver options:\n",
      "    https://scikit-learn.org/stable/modules/linear_model.html#logistic-regression\n",
      "  n_iter_i = _check_optimize_result(\n",
      "/opt/conda/lib/python3.8/site-packages/sklearn/linear_model/_logistic.py:458: ConvergenceWarning: lbfgs failed to converge (status=1):\n",
      "STOP: TOTAL NO. of ITERATIONS REACHED LIMIT.\n",
      "\n",
      "Increase the number of iterations (max_iter) or scale the data as shown in:\n",
      "    https://scikit-learn.org/stable/modules/preprocessing.html\n",
      "Please also refer to the documentation for alternative solver options:\n",
      "    https://scikit-learn.org/stable/modules/linear_model.html#logistic-regression\n",
      "  n_iter_i = _check_optimize_result(\n",
      "/opt/conda/lib/python3.8/site-packages/sklearn/linear_model/_logistic.py:458: ConvergenceWarning: lbfgs failed to converge (status=1):\n",
      "STOP: TOTAL NO. of ITERATIONS REACHED LIMIT.\n",
      "\n",
      "Increase the number of iterations (max_iter) or scale the data as shown in:\n",
      "    https://scikit-learn.org/stable/modules/preprocessing.html\n",
      "Please also refer to the documentation for alternative solver options:\n",
      "    https://scikit-learn.org/stable/modules/linear_model.html#logistic-regression\n",
      "  n_iter_i = _check_optimize_result(\n",
      "/opt/conda/lib/python3.8/site-packages/sklearn/linear_model/_logistic.py:458: ConvergenceWarning: lbfgs failed to converge (status=1):\n",
      "STOP: TOTAL NO. of ITERATIONS REACHED LIMIT.\n",
      "\n",
      "Increase the number of iterations (max_iter) or scale the data as shown in:\n",
      "    https://scikit-learn.org/stable/modules/preprocessing.html\n",
      "Please also refer to the documentation for alternative solver options:\n",
      "    https://scikit-learn.org/stable/modules/linear_model.html#logistic-regression\n",
      "  n_iter_i = _check_optimize_result(\n",
      "/opt/conda/lib/python3.8/site-packages/sklearn/linear_model/_logistic.py:458: ConvergenceWarning: lbfgs failed to converge (status=1):\n",
      "STOP: TOTAL NO. of ITERATIONS REACHED LIMIT.\n",
      "\n",
      "Increase the number of iterations (max_iter) or scale the data as shown in:\n",
      "    https://scikit-learn.org/stable/modules/preprocessing.html\n",
      "Please also refer to the documentation for alternative solver options:\n",
      "    https://scikit-learn.org/stable/modules/linear_model.html#logistic-regression\n",
      "  n_iter_i = _check_optimize_result(\n",
      "/opt/conda/lib/python3.8/site-packages/sklearn/linear_model/_logistic.py:458: ConvergenceWarning: lbfgs failed to converge (status=1):\n",
      "STOP: TOTAL NO. of ITERATIONS REACHED LIMIT.\n",
      "\n",
      "Increase the number of iterations (max_iter) or scale the data as shown in:\n",
      "    https://scikit-learn.org/stable/modules/preprocessing.html\n",
      "Please also refer to the documentation for alternative solver options:\n",
      "    https://scikit-learn.org/stable/modules/linear_model.html#logistic-regression\n",
      "  n_iter_i = _check_optimize_result(\n",
      "/opt/conda/lib/python3.8/site-packages/sklearn/linear_model/_logistic.py:458: ConvergenceWarning: lbfgs failed to converge (status=1):\n",
      "STOP: TOTAL NO. of ITERATIONS REACHED LIMIT.\n",
      "\n",
      "Increase the number of iterations (max_iter) or scale the data as shown in:\n",
      "    https://scikit-learn.org/stable/modules/preprocessing.html\n",
      "Please also refer to the documentation for alternative solver options:\n",
      "    https://scikit-learn.org/stable/modules/linear_model.html#logistic-regression\n",
      "  n_iter_i = _check_optimize_result(\n"
     ]
    },
    {
     "name": "stdout",
     "output_type": "stream",
     "text": [
      "cv_f1_scores: 0.19741407165696384\n",
      "cv_f1_scores_balanced: 0.388112276431723\n",
      "cv_f1_scores_10fit: 0.39195130571069586\n",
      "F1 store all: 0.3795153795293482\n"
     ]
    }
   ],
   "source": [
    "from sklearn.linear_model import LogisticRegression\n",
    "from sklearn.metrics import f1_score\n",
    "\n",
    "from sklearn.preprocessing import MinMaxScaler\n",
    "for test_user_set in test_user_sets:\n",
    "    df_X_tr, df_X_te = df_X[~df_X['user_id'].isin(test_user_set)], df_X[df_X['user_id'].isin(test_user_set)]\n",
    "\n",
    "    y_tr, y_te = df_X_tr['in_cart'], df_X_te['in_cart']\n",
    "    X_tr, X_te = df_X_tr.drop(['product_id','user_id','latest_cart','in_cart'],axis=1), \\\n",
    "             df_X_te.drop(['product_id','user_id','latest_cart','in_cart'],axis=1), \\\n",
    "\n",
    "    scaler = MinMaxScaler()\n",
    "    X_tr = pd.DataFrame(scaler.fit_transform(X_tr), columns=X_tr.columns)\n",
    "    X_te = pd.DataFrame(scaler.fit_transform(X_te), columns=X_te.columns)\n",
    "    #High C for weak regularization\n",
    "    lr = LogisticRegression(C=10000000)\n",
    "    #Test with high weight for lable 1\n",
    "    lr_balanced = LogisticRegression(class_weight='balanced', C=10000000)\n",
    "    lr_10x = LogisticRegression(class_weight={1 : 6, 0 : 1}, C=10000000)\n",
    "    \n",
    "    lr.fit(X_tr, y_tr)\n",
    "    cv_f1_scores.append(f1_score(lr.predict(X_te), y_te))\n",
    "\n",
    "    lr_balanced.fit(X_tr, y_tr)\n",
    "    cv_f1_scores_balanced.append(f1_score(lr_balanced.predict(X_te), y_te))\n",
    "\n",
    "    lr_10x.fit(X_tr, y_tr)\n",
    "    cv_f1_scores_10fit.append(f1_score(lr_10x.predict(X_te), y_te))\n",
    "\n",
    "print(\"cv_f1_scores: \" +str( np.mean(cv_f1_scores)))\n",
    "print(\"cv_f1_scores_balanced: \"+str(np.mean(cv_f1_scores_balanced)))\n",
    "print(\"cv_f1_scores_10fit: \"+str(np.mean(cv_f1_scores_10fit)))\n",
    "\n",
    "df_X_tr, df_X_te = df_X[~df_X['user_id'].isin(test_users)], df_X[df_X['user_id'].isin(test_users)]\n",
    "\n",
    "y_tr, y_te = df_X_tr['in_cart'], df_X_te['in_cart']\n",
    "X_tr, X_te = df_X_tr.drop(['product_id','user_id','latest_cart','in_cart'],axis=1), \\\n",
    "             df_X_te.drop(['product_id','user_id','latest_cart','in_cart'],axis=1), \\\n",
    "\n",
    "lr_10x = LogisticRegression(class_weight={1 : 6, 0 : 1}, C=10000000)\n",
    "lr_10x.fit(X_tr, y_tr)\n",
    "print(\"F1 store all: \"+str(f1_score(lr_10x.predict(X_te), y_te)))"
   ]
  },
  {
   "cell_type": "code",
   "execution_count": 37,
   "metadata": {
    "id": "coZJnkeoB4MQ"
   },
   "outputs": [
    {
     "name": "stdout",
     "output_type": "stream",
     "text": [
      "                                                0\n",
      "user_product_total_orders                1.243696\n",
      "product_total_orders                     1.000003\n",
      "product_avg_add_to_cart_order            0.952017\n",
      "user_total_orders                        0.984673\n",
      "user_avg_cartsize                        1.064488\n",
      "user_total_products                      0.994081\n",
      "user_avg_days_since_prior_order          0.994469\n",
      "user_product_avg_add_to_cart_order       0.970494\n",
      "user_product_order_freq                  1.014169\n",
      "user_avg_order_dow                       0.995933\n",
      "user_avg_order_hour_of_day               0.992769\n",
      "product_avg_order_dow                    0.996132\n",
      "product_avg_order_hour_of_day            0.985826\n",
      "product_avg_days_since_prior_order       0.984802\n",
      "user_product_avg_days_since_prior_order  1.018192\n",
      "user_product_avg_order_dow               0.994595\n",
      "user_product_avg_order_hour_of_day       0.997035\n",
      "alcohol                                  0.999916\n",
      "babies                                   0.999911\n",
      "bakery                                   1.000841\n",
      "beverages                                1.002796\n",
      "breakfast                                0.999906\n",
      "bulk                                     0.999992\n",
      "canned goods                             0.998557\n",
      "dairy eggs                               1.005311\n",
      "deli                                     1.000487\n",
      "dry goods pasta                          0.999000\n",
      "frozen                                   0.999778\n",
      "household                                0.998431\n",
      "international                            0.999276\n",
      "meat seafood                             1.000033\n",
      "missing                                  1.000253\n",
      "other                                    0.999920\n",
      "pantry                                   0.994014\n",
      "personal care                            0.998471\n",
      "pets                                     1.000098\n",
      "produce                                  1.001795\n",
      "snacks                                   1.000364\n"
     ]
    }
   ],
   "source": [
    "coefficients = pd.DataFrame(lr_10x.coef_, columns = X_tr.columns)\n",
    "coefficients = np.exp(coefficients)\n",
    "print(coefficients.T)"
   ]
  },
  {
   "cell_type": "code",
   "execution_count": 40,
   "metadata": {
    "id": "MmRV4AKa7E7e",
    "scrolled": true
   },
   "outputs": [
    {
     "name": "stdout",
     "output_type": "stream",
     "text": [
      "Training Data Accuracy: 0.83\n",
      "Test Data Accuracy:     0.83\n",
      "[[1239386  186237]\n",
      " [  80281   81507]]\n",
      "\n",
      "\n",
      "Precision:              0.30\n",
      "Recall:                 0.50\n"
     ]
    },
    {
     "data": {
      "image/png": "[encoded data removed]",
      "text/plain": [
       "<Figure size 640x480 with 2 Axes>"
      ]
     },
     "metadata": {},
     "output_type": "display_data"
    }
   ],
   "source": [
    "from sklearn.metrics import confusion_matrix\n",
    "import matplotlib.pyplot as plt\n",
    "plt.style.use('fivethirtyeight')\n",
    "\n",
    "def plot_confusion_matrix(cm,title='Confusion matrix', cmap=plt.cm.Reds):\n",
    "    plt.imshow(cm, interpolation='nearest',cmap=cmap)\n",
    "    plt.title(title)\n",
    "    plt.colorbar()\n",
    "    plt.tight_layout()\n",
    "    plt.ylabel('True label')\n",
    "    plt.xlabel('Predicted label')\n",
    "\n",
    "#y_tr=np.ravel(y_tr)\n",
    "\n",
    "train_acc=lr_10x.score(X_tr, y_tr)\n",
    "test_acc=lr_10x.score(X_te, y_te)\n",
    "print(\"Training Data Accuracy: %0.2f\" %(train_acc))\n",
    "print(\"Test Data Accuracy:     %0.2f\" %(test_acc))\n",
    "\n",
    "y_true = y_te\n",
    "y_pred = lr_10x.predict(X_te)\n",
    "\n",
    "\n",
    "conf = confusion_matrix(y_true, y_pred)\n",
    "print(conf)\n",
    "\n",
    "print ('\\n')\n",
    "print (\"Precision:              %0.2f\" %(conf[1, 1] / (conf[1, 1] + conf[0, 1])))\n",
    "print (\"Recall:                 %0.2f\"% (conf[1, 1] / (conf[1, 1] + conf[1, 0])))\n",
    "\n",
    "cm=confusion_matrix(y_true, y_pred, labels=[0, 1])\n",
    "\n",
    "plt.figure()\n",
    "plot_confusion_matrix(cm)\n"
   ]
  },
  {
   "cell_type": "code",
   "execution_count": null,
   "metadata": {},
   "outputs": [],
   "source": []
  }
 ],
 "metadata": {
  "accelerator": "GPU",
  "colab": {
   "gpuType": "T4",
   "provenance": []
  },
  "kernelspec": {
   "display_name": "Python 3 (ipykernel)",
   "language": "python",
   "name": "python3"
  },
  "language_info": {
   "codemirror_mode": {
    "name": "ipython",
    "version": 3
   },
   "file_extension": ".py",
   "mimetype": "text/x-python",
   "name": "python",
   "nbconvert_exporter": "python",
   "pygments_lexer": "ipython3",
   "version": "3.8.13"
  }
 },
 "nbformat": 4,
 "nbformat_minor": 1
}
